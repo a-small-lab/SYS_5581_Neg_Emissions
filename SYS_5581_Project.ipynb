{
 "cells": [
  {
   "cell_type": "markdown",
   "metadata": {},
   "source": [
    "## SYS_5581_Project\n",
    "\n",
    "### Setup\n",
    "\n",
    "Before we can perform analysis and scenarios on the LMP data we must first load the data into useful dataframes. Here we load our csv files into data frames for each month and a combined dataframe for the whole year."
   ]
  },
  {
   "cell_type": "code",
   "execution_count": 12,
   "metadata": {},
   "outputs": [
    {
     "name": "stdout",
     "output_type": "stream",
     "text": [
      "                  Time Stamp    Name   PTID  LBMP ($/MWHr)  \\\n",
      "0        03/02/2019 00:05:00  CAPITL  61757          33.95   \n",
      "1        03/02/2019 00:05:00  CENTRL  61754          31.99   \n",
      "2        03/02/2019 00:05:00  DUNWOD  61760          33.88   \n",
      "3        03/02/2019 00:05:00  GENESE  61753          31.17   \n",
      "4        03/02/2019 00:05:00     H Q  61844          30.63   \n",
      "...                      ...     ...    ...            ...   \n",
      "1602790  06/26/2019 00:00:00   NORTH  61755         -13.20   \n",
      "1602791  06/26/2019 00:00:00     NPX  61845          19.80   \n",
      "1602792  06/26/2019 00:00:00     O H  61846          17.25   \n",
      "1602793  06/26/2019 00:00:00     PJM  61847          19.32   \n",
      "1602794  06/26/2019 00:00:00    WEST  61752          17.54   \n",
      "\n",
      "         Marginal Cost Losses ($/MWHr)  Marginal Cost Congestion ($/MWHr)  \n",
      "0                                 2.37                               0.00  \n",
      "1                                 0.41                               0.00  \n",
      "2                                 2.30                               0.00  \n",
      "3                                -0.41                               0.00  \n",
      "4                                -0.95                               0.00  \n",
      "...                                ...                                ...  \n",
      "1602790                          -0.64                              30.90  \n",
      "1602791                           1.45                               0.00  \n",
      "1602792                          -1.10                               0.00  \n",
      "1602793                           0.64                              -0.33  \n",
      "1602794                          -0.81                               0.00  \n",
      "\n",
      "[1602795 rows x 6 columns]\n"
     ]
    }
   ],
   "source": [
    "import os\n",
    "import pandas as pd\n",
    "\n",
    "data_dir = \"./data\"\n",
    "\n",
    "# list of dataframes from each month of the year\n",
    "monthly_dfs = []\n",
    "\n",
    "for folder_name in os.listdir(data_dir):\n",
    "    folder = data_dir + \"/\" + folder_name\n",
    "    \n",
    "    # dfs for each day of the month\n",
    "    days_dfs = []\n",
    "    for file in os.listdir(folder):\n",
    "        file_path = folder + \"/\" + file\n",
    "        days_dfs.append(pd.read_csv(file_path))\n",
    "        \n",
    "    # df for the entire month\n",
    "    month_df = pd.concat(days_dfs, axis=0, ignore_index=True)\n",
    "    monthly_dfs.append(month_df)\n",
    "    \n",
    "# dataframe for full year worth of data\n",
    "year_df = pd.concat(monthly_dfs, axis=0, ignore_index=True)\n",
    "\n",
    "print(year_df)\n",
    "        \n",
    "        \n"
   ]
  },
  {
   "cell_type": "markdown",
   "metadata": {},
   "source": [
    "### Historical Price Analysis\n",
    "\n",
    "In this section we will analyze the historic LMP data we retrieved. We will look at the change in price over time in different regions of New York."
   ]
  },
  {
   "cell_type": "code",
   "execution_count": 50,
   "metadata": {},
   "outputs": [
    {
     "name": "stdout",
     "output_type": "stream",
     "text": [
      "Time Stamp\n"
     ]
    },
    {
     "data": {
      "text/plain": [
       "3          31.17\n",
       "18         31.06\n",
       "33         31.17\n",
       "48         31.17\n",
       "63         31.10\n",
       "           ...  \n",
       "1602723    23.10\n",
       "1602738    26.86\n",
       "1602753    27.44\n",
       "1602768    28.96\n",
       "1602783    17.82\n",
       "Name: LBMP ($/MWHr), Length: 106853, dtype: float64"
      ]
     },
     "execution_count": 50,
     "metadata": {},
     "output_type": "execute_result"
    }
   ],
   "source": [
    "import matplotlib.pyplot as plt\n",
    "\n",
    "genese = year_df[year_df[\"Name\"] == \"GENESE\"]\n",
    "dunwood = year_df[year_df[\"Name\"] == \"DUNWOD\"]\n",
    "central = year_df[year_df[\"Name\"] == \"CENTRL\"]\n",
    "\n",
    "\n",
    "\n",
    "#plt.hist(genese[\"LBMP ($/MWHr)\"], 12, range=[1:12], density=True, histtype='bar', color='blue', alpha=0.75)\n",
    "\n",
    "plt.plot(genese[\"LBMP ($/MWHr)\"])\n",
    "     \n",
    "# plt.xlabel('Month') \n",
    "# plt.ylabel('LBMP ($/MWHr)') \n",
    "# plt.title(\"Genese LBMP for 2019\")\n",
    "\n",
    "\n",
    "# plt.show()\n",
    "\n",
    "\n",
    "         \n",
    "\n",
    "\n",
    "#\n",
    "\n",
    "# plt.show\n"
   ]
  },
  {
   "cell_type": "code",
   "execution_count": null,
   "metadata": {},
   "outputs": [],
   "source": []
  }
 ],
 "metadata": {
  "kernelspec": {
   "display_name": "Python 3",
   "language": "python",
   "name": "python3"
  },
  "language_info": {
   "codemirror_mode": {
    "name": "ipython",
    "version": 3
   },
   "file_extension": ".py",
   "mimetype": "text/x-python",
   "name": "python",
   "nbconvert_exporter": "python",
   "pygments_lexer": "ipython3",
   "version": "3.8.3"
  }
 },
 "nbformat": 4,
 "nbformat_minor": 4
}
